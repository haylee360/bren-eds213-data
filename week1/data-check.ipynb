{
 "cells": [
  {
   "cell_type": "markdown",
   "metadata": {},
   "source": [
    "# Explore Snow Survey Data"
   ]
  },
  {
   "cell_type": "code",
   "execution_count": 4,
   "metadata": {},
   "outputs": [],
   "source": [
    "import pandas as pd \n",
    "import numpy as np\n",
    "\n",
    "# Read in snow survey data\n",
    "df = pd.read_csv('ASDN_csv/ASDN_Snow_survey.csv')\n",
    "df_site = pd.read_csv('ASDN_csv/site.csv')\n",
    "df_pers = pd.read_csv('ASDN_csv/personnel.csv')"
   ]
  },
  {
   "cell_type": "code",
   "execution_count": 5,
   "metadata": {},
   "outputs": [
    {
     "data": {
      "application/vnd.microsoft.datawrangler.viewer.v0+json": {
       "columns": [
        {
         "name": "index",
         "rawType": "int64",
         "type": "integer"
        },
        {
         "name": "Abbreviation",
         "rawType": "object",
         "type": "string"
        },
        {
         "name": "Name",
         "rawType": "object",
         "type": "string"
        }
       ],
       "conversionMethod": "pd.DataFrame",
       "ref": "f717bced-6ddf-44e5-abac-4eafb0ecbe46",
       "rows": [
        [
         "0",
         "agottesman",
         "Aaron Gottesman"
        ],
        [
         "1",
         "asterling",
         "Abby Sterling"
        ],
        [
         "2",
         "abradley",
         "Adam Bradley"
        ],
        [
         "3",
         "akneidel",
         "Alan Kneidel"
        ],
        [
         "4",
         "akataluk-primeau",
         "Alannah Kataluk-Primeau"
        ]
       ],
       "shape": {
        "columns": 2,
        "rows": 5
       }
      },
      "text/html": [
       "<div>\n",
       "<style scoped>\n",
       "    .dataframe tbody tr th:only-of-type {\n",
       "        vertical-align: middle;\n",
       "    }\n",
       "\n",
       "    .dataframe tbody tr th {\n",
       "        vertical-align: top;\n",
       "    }\n",
       "\n",
       "    .dataframe thead th {\n",
       "        text-align: right;\n",
       "    }\n",
       "</style>\n",
       "<table border=\"1\" class=\"dataframe\">\n",
       "  <thead>\n",
       "    <tr style=\"text-align: right;\">\n",
       "      <th></th>\n",
       "      <th>Abbreviation</th>\n",
       "      <th>Name</th>\n",
       "    </tr>\n",
       "  </thead>\n",
       "  <tbody>\n",
       "    <tr>\n",
       "      <th>0</th>\n",
       "      <td>agottesman</td>\n",
       "      <td>Aaron Gottesman</td>\n",
       "    </tr>\n",
       "    <tr>\n",
       "      <th>1</th>\n",
       "      <td>asterling</td>\n",
       "      <td>Abby Sterling</td>\n",
       "    </tr>\n",
       "    <tr>\n",
       "      <th>2</th>\n",
       "      <td>abradley</td>\n",
       "      <td>Adam Bradley</td>\n",
       "    </tr>\n",
       "    <tr>\n",
       "      <th>3</th>\n",
       "      <td>akneidel</td>\n",
       "      <td>Alan Kneidel</td>\n",
       "    </tr>\n",
       "    <tr>\n",
       "      <th>4</th>\n",
       "      <td>akataluk-primeau</td>\n",
       "      <td>Alannah Kataluk-Primeau</td>\n",
       "    </tr>\n",
       "  </tbody>\n",
       "</table>\n",
       "</div>"
      ],
      "text/plain": [
       "       Abbreviation                     Name\n",
       "0        agottesman          Aaron Gottesman\n",
       "1         asterling            Abby Sterling\n",
       "2          abradley             Adam Bradley\n",
       "3          akneidel             Alan Kneidel\n",
       "4  akataluk-primeau  Alannah Kataluk-Primeau"
      ]
     },
     "execution_count": 5,
     "metadata": {},
     "output_type": "execute_result"
    }
   ],
   "source": [
    "df_pers.head()"
   ]
  },
  {
   "cell_type": "code",
   "execution_count": 2,
   "metadata": {},
   "outputs": [
    {
     "data": {
      "application/vnd.microsoft.datawrangler.viewer.v0+json": {
       "columns": [
        {
         "name": "index",
         "rawType": "int64",
         "type": "integer"
        },
        {
         "name": "Code",
         "rawType": "object",
         "type": "string"
        },
        {
         "name": "Site name",
         "rawType": "object",
         "type": "string"
        },
        {
         "name": "Location",
         "rawType": "object",
         "type": "string"
        },
        {
         "name": "Latitude",
         "rawType": "float64",
         "type": "float"
        },
        {
         "name": "Longitude",
         "rawType": "float64",
         "type": "float"
        },
        {
         "name": "Total_Study_Plot_Area_(ha)",
         "rawType": "float64",
         "type": "float"
        }
       ],
       "conversionMethod": "pd.DataFrame",
       "ref": "dee16093-3375-49b0-b57d-f20eeac48b28",
       "rows": [
        [
         "0",
         "barr",
         "Barrow",
         "Alaska, USA",
         "71.3",
         "-156.6",
         "220.4"
        ],
        [
         "1",
         "burn",
         "Burntpoint Creek",
         "Ontario, Canada",
         "55.2",
         "-84.3",
         "63.0"
        ],
        [
         "2",
         "bylo",
         "Bylot Island",
         "Nunavut, Canada",
         "73.2",
         "-80.0",
         "723.6"
        ],
        [
         "3",
         "cakr",
         "Cape Krusenstern",
         "Alaska, USA",
         "67.1",
         "-163.5",
         "54.1"
        ],
        [
         "4",
         "cari",
         "Canning River Delta",
         "Alaska, USA",
         "70.1",
         "-145.8",
         "722.0"
        ]
       ],
       "shape": {
        "columns": 6,
        "rows": 5
       }
      },
      "text/html": [
       "<div>\n",
       "<style scoped>\n",
       "    .dataframe tbody tr th:only-of-type {\n",
       "        vertical-align: middle;\n",
       "    }\n",
       "\n",
       "    .dataframe tbody tr th {\n",
       "        vertical-align: top;\n",
       "    }\n",
       "\n",
       "    .dataframe thead th {\n",
       "        text-align: right;\n",
       "    }\n",
       "</style>\n",
       "<table border=\"1\" class=\"dataframe\">\n",
       "  <thead>\n",
       "    <tr style=\"text-align: right;\">\n",
       "      <th></th>\n",
       "      <th>Code</th>\n",
       "      <th>Site name</th>\n",
       "      <th>Location</th>\n",
       "      <th>Latitude</th>\n",
       "      <th>Longitude</th>\n",
       "      <th>Total_Study_Plot_Area_(ha)</th>\n",
       "    </tr>\n",
       "  </thead>\n",
       "  <tbody>\n",
       "    <tr>\n",
       "      <th>0</th>\n",
       "      <td>barr</td>\n",
       "      <td>Barrow</td>\n",
       "      <td>Alaska, USA</td>\n",
       "      <td>71.3</td>\n",
       "      <td>-156.6</td>\n",
       "      <td>220.4</td>\n",
       "    </tr>\n",
       "    <tr>\n",
       "      <th>1</th>\n",
       "      <td>burn</td>\n",
       "      <td>Burntpoint Creek</td>\n",
       "      <td>Ontario, Canada</td>\n",
       "      <td>55.2</td>\n",
       "      <td>-84.3</td>\n",
       "      <td>63.0</td>\n",
       "    </tr>\n",
       "    <tr>\n",
       "      <th>2</th>\n",
       "      <td>bylo</td>\n",
       "      <td>Bylot Island</td>\n",
       "      <td>Nunavut, Canada</td>\n",
       "      <td>73.2</td>\n",
       "      <td>-80.0</td>\n",
       "      <td>723.6</td>\n",
       "    </tr>\n",
       "    <tr>\n",
       "      <th>3</th>\n",
       "      <td>cakr</td>\n",
       "      <td>Cape Krusenstern</td>\n",
       "      <td>Alaska, USA</td>\n",
       "      <td>67.1</td>\n",
       "      <td>-163.5</td>\n",
       "      <td>54.1</td>\n",
       "    </tr>\n",
       "    <tr>\n",
       "      <th>4</th>\n",
       "      <td>cari</td>\n",
       "      <td>Canning River Delta</td>\n",
       "      <td>Alaska, USA</td>\n",
       "      <td>70.1</td>\n",
       "      <td>-145.8</td>\n",
       "      <td>722.0</td>\n",
       "    </tr>\n",
       "  </tbody>\n",
       "</table>\n",
       "</div>"
      ],
      "text/plain": [
       "   Code            Site name         Location  Latitude  Longitude  \\\n",
       "0  barr               Barrow      Alaska, USA      71.3     -156.6   \n",
       "1  burn     Burntpoint Creek  Ontario, Canada      55.2      -84.3   \n",
       "2  bylo         Bylot Island  Nunavut, Canada      73.2      -80.0   \n",
       "3  cakr     Cape Krusenstern      Alaska, USA      67.1     -163.5   \n",
       "4  cari  Canning River Delta      Alaska, USA      70.1     -145.8   \n",
       "\n",
       "   Total_Study_Plot_Area_(ha)  \n",
       "0                       220.4  \n",
       "1                        63.0  \n",
       "2                       723.6  \n",
       "3                        54.1  \n",
       "4                       722.0  "
      ]
     },
     "execution_count": 2,
     "metadata": {},
     "output_type": "execute_result"
    }
   ],
   "source": [
    "df_site.head()"
   ]
  },
  {
   "cell_type": "code",
   "execution_count": 3,
   "metadata": {},
   "outputs": [
    {
     "data": {
      "application/vnd.microsoft.datawrangler.viewer.v0+json": {
       "columns": [
        {
         "name": "index",
         "rawType": "int64",
         "type": "integer"
        },
        {
         "name": "Site",
         "rawType": "object",
         "type": "string"
        },
        {
         "name": "Year",
         "rawType": "int64",
         "type": "integer"
        },
        {
         "name": "Date",
         "rawType": "object",
         "type": "string"
        },
        {
         "name": "Plot",
         "rawType": "object",
         "type": "string"
        },
        {
         "name": "Location",
         "rawType": "object",
         "type": "string"
        },
        {
         "name": "Snow_cover",
         "rawType": "float64",
         "type": "float"
        },
        {
         "name": "Water_cover",
         "rawType": "float64",
         "type": "float"
        },
        {
         "name": "Land_cover",
         "rawType": "float64",
         "type": "float"
        },
        {
         "name": "Total_cover",
         "rawType": "float64",
         "type": "float"
        },
        {
         "name": "Observer",
         "rawType": "object",
         "type": "string"
        },
        {
         "name": "Notes",
         "rawType": "object",
         "type": "unknown"
        }
       ],
       "conversionMethod": "pd.DataFrame",
       "ref": "f2ffb307-45b2-43c0-8ae9-ece2bb6302b7",
       "rows": [
        [
         "0",
         "barr",
         "2011",
         "2011-05-29",
         "brw1",
         "b10",
         "90.0",
         "0.0",
         "10.0",
         "100.0",
         "adoll",
         null
        ],
        [
         "1",
         "barr",
         "2011",
         "2011-05-29",
         "brw1",
         "b12",
         "100.0",
         "0.0",
         "0.0",
         "100.0",
         "adoll",
         null
        ],
        [
         "2",
         "barr",
         "2011",
         "2011-05-29",
         "brw1",
         "b2",
         "90.0",
         "0.0",
         "10.0",
         "100.0",
         "adoll",
         null
        ],
        [
         "3",
         "barr",
         "2011",
         "2011-05-29",
         "brw1",
         "b4",
         "100.0",
         "0.0",
         "0.0",
         "100.0",
         "adoll",
         null
        ],
        [
         "4",
         "barr",
         "2011",
         "2011-05-29",
         "brw1",
         "b6",
         "95.0",
         "0.0",
         "5.0",
         "100.0",
         "adoll",
         null
        ]
       ],
       "shape": {
        "columns": 11,
        "rows": 5
       }
      },
      "text/html": [
       "<div>\n",
       "<style scoped>\n",
       "    .dataframe tbody tr th:only-of-type {\n",
       "        vertical-align: middle;\n",
       "    }\n",
       "\n",
       "    .dataframe tbody tr th {\n",
       "        vertical-align: top;\n",
       "    }\n",
       "\n",
       "    .dataframe thead th {\n",
       "        text-align: right;\n",
       "    }\n",
       "</style>\n",
       "<table border=\"1\" class=\"dataframe\">\n",
       "  <thead>\n",
       "    <tr style=\"text-align: right;\">\n",
       "      <th></th>\n",
       "      <th>Site</th>\n",
       "      <th>Year</th>\n",
       "      <th>Date</th>\n",
       "      <th>Plot</th>\n",
       "      <th>Location</th>\n",
       "      <th>Snow_cover</th>\n",
       "      <th>Water_cover</th>\n",
       "      <th>Land_cover</th>\n",
       "      <th>Total_cover</th>\n",
       "      <th>Observer</th>\n",
       "      <th>Notes</th>\n",
       "    </tr>\n",
       "  </thead>\n",
       "  <tbody>\n",
       "    <tr>\n",
       "      <th>0</th>\n",
       "      <td>barr</td>\n",
       "      <td>2011</td>\n",
       "      <td>2011-05-29</td>\n",
       "      <td>brw1</td>\n",
       "      <td>b10</td>\n",
       "      <td>90.0</td>\n",
       "      <td>0.0</td>\n",
       "      <td>10.0</td>\n",
       "      <td>100.0</td>\n",
       "      <td>adoll</td>\n",
       "      <td>NaN</td>\n",
       "    </tr>\n",
       "    <tr>\n",
       "      <th>1</th>\n",
       "      <td>barr</td>\n",
       "      <td>2011</td>\n",
       "      <td>2011-05-29</td>\n",
       "      <td>brw1</td>\n",
       "      <td>b12</td>\n",
       "      <td>100.0</td>\n",
       "      <td>0.0</td>\n",
       "      <td>0.0</td>\n",
       "      <td>100.0</td>\n",
       "      <td>adoll</td>\n",
       "      <td>NaN</td>\n",
       "    </tr>\n",
       "    <tr>\n",
       "      <th>2</th>\n",
       "      <td>barr</td>\n",
       "      <td>2011</td>\n",
       "      <td>2011-05-29</td>\n",
       "      <td>brw1</td>\n",
       "      <td>b2</td>\n",
       "      <td>90.0</td>\n",
       "      <td>0.0</td>\n",
       "      <td>10.0</td>\n",
       "      <td>100.0</td>\n",
       "      <td>adoll</td>\n",
       "      <td>NaN</td>\n",
       "    </tr>\n",
       "    <tr>\n",
       "      <th>3</th>\n",
       "      <td>barr</td>\n",
       "      <td>2011</td>\n",
       "      <td>2011-05-29</td>\n",
       "      <td>brw1</td>\n",
       "      <td>b4</td>\n",
       "      <td>100.0</td>\n",
       "      <td>0.0</td>\n",
       "      <td>0.0</td>\n",
       "      <td>100.0</td>\n",
       "      <td>adoll</td>\n",
       "      <td>NaN</td>\n",
       "    </tr>\n",
       "    <tr>\n",
       "      <th>4</th>\n",
       "      <td>barr</td>\n",
       "      <td>2011</td>\n",
       "      <td>2011-05-29</td>\n",
       "      <td>brw1</td>\n",
       "      <td>b6</td>\n",
       "      <td>95.0</td>\n",
       "      <td>0.0</td>\n",
       "      <td>5.0</td>\n",
       "      <td>100.0</td>\n",
       "      <td>adoll</td>\n",
       "      <td>NaN</td>\n",
       "    </tr>\n",
       "  </tbody>\n",
       "</table>\n",
       "</div>"
      ],
      "text/plain": [
       "   Site  Year        Date  Plot Location  Snow_cover  Water_cover  Land_cover  \\\n",
       "0  barr  2011  2011-05-29  brw1      b10        90.0          0.0        10.0   \n",
       "1  barr  2011  2011-05-29  brw1      b12       100.0          0.0         0.0   \n",
       "2  barr  2011  2011-05-29  brw1       b2        90.0          0.0        10.0   \n",
       "3  barr  2011  2011-05-29  brw1       b4       100.0          0.0         0.0   \n",
       "4  barr  2011  2011-05-29  brw1       b6        95.0          0.0         5.0   \n",
       "\n",
       "   Total_cover Observer Notes  \n",
       "0        100.0    adoll   NaN  \n",
       "1        100.0    adoll   NaN  \n",
       "2        100.0    adoll   NaN  \n",
       "3        100.0    adoll   NaN  \n",
       "4        100.0    adoll   NaN  "
      ]
     },
     "execution_count": 3,
     "metadata": {},
     "output_type": "execute_result"
    }
   ],
   "source": [
    "df.head()"
   ]
  },
  {
   "cell_type": "code",
   "execution_count": 4,
   "metadata": {},
   "outputs": [
    {
     "data": {
      "text/plain": [
       "Site            object\n",
       "Year             int64\n",
       "Date            object\n",
       "Plot            object\n",
       "Location        object\n",
       "Snow_cover     float64\n",
       "Water_cover    float64\n",
       "Land_cover     float64\n",
       "Total_cover    float64\n",
       "Observer        object\n",
       "Notes           object\n",
       "dtype: object"
      ]
     },
     "execution_count": 4,
     "metadata": {},
     "output_type": "execute_result"
    }
   ],
   "source": [
    "df.dtypes"
   ]
  },
  {
   "cell_type": "code",
   "execution_count": 5,
   "metadata": {},
   "outputs": [
    {
     "data": {
      "application/vnd.microsoft.datawrangler.viewer.v0+json": {
       "columns": [
        {
         "name": "index",
         "rawType": "object",
         "type": "string"
        },
        {
         "name": "Year",
         "rawType": "float64",
         "type": "float"
        },
        {
         "name": "Snow_cover",
         "rawType": "float64",
         "type": "float"
        },
        {
         "name": "Water_cover",
         "rawType": "float64",
         "type": "float"
        },
        {
         "name": "Land_cover",
         "rawType": "float64",
         "type": "float"
        },
        {
         "name": "Total_cover",
         "rawType": "float64",
         "type": "float"
        }
       ],
       "conversionMethod": "pd.DataFrame",
       "ref": "124fe9e8-8ef2-4ef8-8e43-3c45aa3f83a4",
       "rows": [
        [
         "count",
         "27936.0",
         "27936.0",
         "27936.0",
         "27936.0",
         "27936.0"
        ],
        [
         "mean",
         "2012.3540592783504",
         "20.709827820733103",
         "17.28001503436426",
         "62.010157144902635",
         "100.0"
        ],
        [
         "std",
         "1.2488333510843486",
         "34.462747741528865",
         "22.983630747731794",
         "34.92829216459566",
         "0.0"
        ],
        [
         "min",
         "2006.0",
         "0.0",
         "0.0",
         "0.0",
         "100.0"
        ],
        [
         "25%",
         "2011.0",
         "0.0",
         "0.0",
         "30.0",
         "100.0"
        ],
        [
         "50%",
         "2012.0",
         "0.0",
         "10.0",
         "70.0",
         "100.0"
        ],
        [
         "75%",
         "2013.0",
         "30.0",
         "25.0",
         "95.0",
         "100.0"
        ],
        [
         "max",
         "2014.0",
         "100.0",
         "100.0",
         "100.0",
         "100.0"
        ]
       ],
       "shape": {
        "columns": 5,
        "rows": 8
       }
      },
      "text/html": [
       "<div>\n",
       "<style scoped>\n",
       "    .dataframe tbody tr th:only-of-type {\n",
       "        vertical-align: middle;\n",
       "    }\n",
       "\n",
       "    .dataframe tbody tr th {\n",
       "        vertical-align: top;\n",
       "    }\n",
       "\n",
       "    .dataframe thead th {\n",
       "        text-align: right;\n",
       "    }\n",
       "</style>\n",
       "<table border=\"1\" class=\"dataframe\">\n",
       "  <thead>\n",
       "    <tr style=\"text-align: right;\">\n",
       "      <th></th>\n",
       "      <th>Year</th>\n",
       "      <th>Snow_cover</th>\n",
       "      <th>Water_cover</th>\n",
       "      <th>Land_cover</th>\n",
       "      <th>Total_cover</th>\n",
       "    </tr>\n",
       "  </thead>\n",
       "  <tbody>\n",
       "    <tr>\n",
       "      <th>count</th>\n",
       "      <td>27936.000000</td>\n",
       "      <td>27936.000000</td>\n",
       "      <td>27936.000000</td>\n",
       "      <td>27936.000000</td>\n",
       "      <td>27936.0</td>\n",
       "    </tr>\n",
       "    <tr>\n",
       "      <th>mean</th>\n",
       "      <td>2012.354059</td>\n",
       "      <td>20.709828</td>\n",
       "      <td>17.280015</td>\n",
       "      <td>62.010157</td>\n",
       "      <td>100.0</td>\n",
       "    </tr>\n",
       "    <tr>\n",
       "      <th>std</th>\n",
       "      <td>1.248833</td>\n",
       "      <td>34.462748</td>\n",
       "      <td>22.983631</td>\n",
       "      <td>34.928292</td>\n",
       "      <td>0.0</td>\n",
       "    </tr>\n",
       "    <tr>\n",
       "      <th>min</th>\n",
       "      <td>2006.000000</td>\n",
       "      <td>0.000000</td>\n",
       "      <td>0.000000</td>\n",
       "      <td>0.000000</td>\n",
       "      <td>100.0</td>\n",
       "    </tr>\n",
       "    <tr>\n",
       "      <th>25%</th>\n",
       "      <td>2011.000000</td>\n",
       "      <td>0.000000</td>\n",
       "      <td>0.000000</td>\n",
       "      <td>30.000000</td>\n",
       "      <td>100.0</td>\n",
       "    </tr>\n",
       "    <tr>\n",
       "      <th>50%</th>\n",
       "      <td>2012.000000</td>\n",
       "      <td>0.000000</td>\n",
       "      <td>10.000000</td>\n",
       "      <td>70.000000</td>\n",
       "      <td>100.0</td>\n",
       "    </tr>\n",
       "    <tr>\n",
       "      <th>75%</th>\n",
       "      <td>2013.000000</td>\n",
       "      <td>30.000000</td>\n",
       "      <td>25.000000</td>\n",
       "      <td>95.000000</td>\n",
       "      <td>100.0</td>\n",
       "    </tr>\n",
       "    <tr>\n",
       "      <th>max</th>\n",
       "      <td>2014.000000</td>\n",
       "      <td>100.000000</td>\n",
       "      <td>100.000000</td>\n",
       "      <td>100.000000</td>\n",
       "      <td>100.0</td>\n",
       "    </tr>\n",
       "  </tbody>\n",
       "</table>\n",
       "</div>"
      ],
      "text/plain": [
       "               Year    Snow_cover   Water_cover    Land_cover  Total_cover\n",
       "count  27936.000000  27936.000000  27936.000000  27936.000000      27936.0\n",
       "mean    2012.354059     20.709828     17.280015     62.010157        100.0\n",
       "std        1.248833     34.462748     22.983631     34.928292          0.0\n",
       "min     2006.000000      0.000000      0.000000      0.000000        100.0\n",
       "25%     2011.000000      0.000000      0.000000     30.000000        100.0\n",
       "50%     2012.000000      0.000000     10.000000     70.000000        100.0\n",
       "75%     2013.000000     30.000000     25.000000     95.000000        100.0\n",
       "max     2014.000000    100.000000    100.000000    100.000000        100.0"
      ]
     },
     "execution_count": 5,
     "metadata": {},
     "output_type": "execute_result"
    }
   ],
   "source": [
    "df.describe()"
   ]
  },
  {
   "cell_type": "code",
   "execution_count": 6,
   "metadata": {},
   "outputs": [
    {
     "data": {
      "text/plain": [
       "Site               0\n",
       "Year               0\n",
       "Date               0\n",
       "Plot             154\n",
       "Location           9\n",
       "Snow_cover         0\n",
       "Water_cover        0\n",
       "Land_cover         0\n",
       "Total_cover        0\n",
       "Observer           0\n",
       "Notes          27128\n",
       "dtype: int64"
      ]
     },
     "execution_count": 6,
     "metadata": {},
     "output_type": "execute_result"
    }
   ],
   "source": [
    "df.isna().sum()"
   ]
  },
  {
   "cell_type": "code",
   "execution_count": 6,
   "metadata": {},
   "outputs": [
    {
     "data": {
      "text/plain": [
       "Plot\n",
       "brw5         2197\n",
       "brw1         2189\n",
       "brw3         2184\n",
       "brw2         2085\n",
       "brw8         1483\n",
       "7b           1000\n",
       "5a           1000\n",
       "7a            999\n",
       "5b            996\n",
       "1             974\n",
       "3a            920\n",
       "3b            917\n",
       "brw0          788\n",
       "2             740\n",
       "brw6          722\n",
       "9             680\n",
       "south         647\n",
       "north         646\n",
       "7             640\n",
       "5             560\n",
       "10            520\n",
       "6             520\n",
       "21            360\n",
       "11            360\n",
       "8             320\n",
       "3             320\n",
       "12            280\n",
       "22            240\n",
       "4             240\n",
       "east          213\n",
       "taglu         190\n",
       "all           180\n",
       "central       162\n",
       "fishb         147\n",
       "fisha         140\n",
       "3A            120\n",
       "3B            120\n",
       "camp           99\n",
       "nepe           97\n",
       "sepe           97\n",
       "west           92\n",
       "5A             80\n",
       "7B             80\n",
       "7A             80\n",
       "5B             80\n",
       "fish a         50\n",
       "fish b         50\n",
       "plotF          40\n",
       "plotE          40\n",
       "CNSC           25\n",
       "gun range      25\n",
       "nig lo         19\n",
       "studyarea      19\n",
       "nig up         10\n",
       "Name: count, dtype: int64"
      ]
     },
     "execution_count": 6,
     "metadata": {},
     "output_type": "execute_result"
    }
   ],
   "source": [
    "df['Plot'].value_counts()"
   ]
  }
 ],
 "metadata": {
  "kernelspec": {
   "display_name": "eds296-env",
   "language": "python",
   "name": "python3"
  },
  "language_info": {
   "codemirror_mode": {
    "name": "ipython",
    "version": 3
   },
   "file_extension": ".py",
   "mimetype": "text/x-python",
   "name": "python",
   "nbconvert_exporter": "python",
   "pygments_lexer": "ipython3",
   "version": "3.13.2"
  }
 },
 "nbformat": 4,
 "nbformat_minor": 2
}
