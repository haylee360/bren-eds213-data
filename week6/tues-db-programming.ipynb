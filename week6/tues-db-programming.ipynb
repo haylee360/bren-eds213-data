{
 "cells": [
  {
   "cell_type": "markdown",
   "id": "c23dca74",
   "metadata": {},
   "source": [
    "# Database programming"
   ]
  },
  {
   "cell_type": "code",
   "execution_count": 2,
   "id": "7562dab7",
   "metadata": {},
   "outputs": [
    {
     "data": {
      "text/plain": [
       "'/Users/hoyler/MEDS/EDS-213/bren-eds213-data/week6'"
      ]
     },
     "execution_count": 2,
     "metadata": {},
     "output_type": "execute_result"
    }
   ],
   "source": [
    "%pwd"
   ]
  },
  {
   "cell_type": "code",
   "execution_count": 3,
   "id": "2e6c5586",
   "metadata": {},
   "outputs": [
    {
     "name": "stdout",
     "output_type": "stream",
     "text": [
      "/Users/hoyler/MEDS/EDS-213/bren-eds213-data/database\n"
     ]
    }
   ],
   "source": [
    "%cd ../database/"
   ]
  },
  {
   "cell_type": "code",
   "execution_count": 1,
   "id": "4f91f184",
   "metadata": {},
   "outputs": [],
   "source": [
    "import duckdb"
   ]
  },
  {
   "cell_type": "code",
   "execution_count": 4,
   "id": "1f53a57e",
   "metadata": {},
   "outputs": [
    {
     "name": "stdout",
     "output_type": "stream",
     "text": [
      "database.db\n"
     ]
    }
   ],
   "source": [
    "%ls database.db"
   ]
  },
  {
   "cell_type": "code",
   "execution_count": 5,
   "id": "b093c1e9",
   "metadata": {},
   "outputs": [],
   "source": [
    "conn = duckdb.connect(\"database.db\")"
   ]
  },
  {
   "cell_type": "code",
   "execution_count": 6,
   "id": "c722dd99",
   "metadata": {},
   "outputs": [
    {
     "data": {
      "text/plain": [
       "<duckdb.duckdb.DuckDBPyConnection at 0x7f7360473630>"
      ]
     },
     "execution_count": 6,
     "metadata": {},
     "output_type": "execute_result"
    }
   ],
   "source": [
    "conn"
   ]
  },
  {
   "cell_type": "markdown",
   "id": "09edb00c",
   "metadata": {},
   "source": [
    "Create a cursor to hold the context of executing a query or other SQL statement"
   ]
  },
  {
   "cell_type": "code",
   "execution_count": 7,
   "id": "9f1606fa",
   "metadata": {},
   "outputs": [],
   "source": [
    "cur = conn.cursor()"
   ]
  },
  {
   "cell_type": "code",
   "execution_count": 8,
   "id": "7893c99b",
   "metadata": {},
   "outputs": [
    {
     "data": {
      "text/plain": [
       "<duckdb.duckdb.DuckDBPyConnection at 0x7f7360579030>"
      ]
     },
     "execution_count": 8,
     "metadata": {},
     "output_type": "execute_result"
    }
   ],
   "source": [
    "cur.execute(\"SELECT * FROM Site LIMIT 3\")"
   ]
  },
  {
   "cell_type": "markdown",
   "id": "54c0b987",
   "metadata": {},
   "source": [
    "Method 1: Getting all at once using `fetchall`"
   ]
  },
  {
   "cell_type": "code",
   "execution_count": 9,
   "id": "27adad6d",
   "metadata": {},
   "outputs": [
    {
     "data": {
      "text/plain": [
       "[('barr',\n",
       "  'Barrow',\n",
       "  'Alaska, USA',\n",
       "  71.30000305175781,\n",
       "  -156.60000610351562,\n",
       "  220.39999389648438),\n",
       " ('burn',\n",
       "  'Burntpoint Creek',\n",
       "  'Ontario, Canada',\n",
       "  55.20000076293945,\n",
       "  -84.30000305175781,\n",
       "  63.0),\n",
       " ('bylo',\n",
       "  'Bylot Island',\n",
       "  'Nunavut, Canada',\n",
       "  73.19999694824219,\n",
       "  -80.0,\n",
       "  723.5999755859375)]"
      ]
     },
     "execution_count": 9,
     "metadata": {},
     "output_type": "execute_result"
    }
   ],
   "source": [
    "cur.fetchall()"
   ]
  },
  {
   "cell_type": "markdown",
   "id": "4de15fe4",
   "metadata": {},
   "source": [
    "Output as list, and each element is a tuple inside the list. "
   ]
  },
  {
   "cell_type": "markdown",
   "id": "f1ac998b",
   "metadata": {},
   "source": [
    "Cursors don't save any results; they're just a pass-through mechanism"
   ]
  },
  {
   "cell_type": "code",
   "execution_count": null,
   "id": "f63fb5aa",
   "metadata": {},
   "outputs": [
    {
     "data": {
      "text/plain": [
       "[]"
      ]
     },
     "execution_count": 10,
     "metadata": {},
     "output_type": "execute_result"
    }
   ],
   "source": [
    "# This won't give any results\n",
    "cur.fetchall()"
   ]
  },
  {
   "cell_type": "markdown",
   "id": "652d6b29",
   "metadata": {},
   "source": [
    "Cursors always return a list of tuples, even just 1-tuples"
   ]
  },
  {
   "cell_type": "code",
   "execution_count": 11,
   "id": "3c26c73b",
   "metadata": {},
   "outputs": [
    {
     "data": {
      "text/plain": [
       "[('barr',), ('burn',), ('bylo',)]"
      ]
     },
     "execution_count": 11,
     "metadata": {},
     "output_type": "execute_result"
    }
   ],
   "source": [
    "cur.execute(\"SELECT Code FROM Site LIMIT 3\")\n",
    "cur.fetchall()"
   ]
  },
  {
   "cell_type": "markdown",
   "id": "aa530a29",
   "metadata": {},
   "source": [
    "Pretty common to use a list comprehension to pull out the values more conveniently"
   ]
  },
  {
   "cell_type": "code",
   "execution_count": null,
   "id": "622d8504",
   "metadata": {},
   "outputs": [
    {
     "data": {
      "text/plain": [
       "<duckdb.duckdb.DuckDBPyConnection at 0x7f7360579030>"
      ]
     },
     "execution_count": 12,
     "metadata": {},
     "output_type": "execute_result"
    }
   ],
   "source": [
    "cur.execute(\"SELECT Code FROM Site LIMIT 3\")"
   ]
  },
  {
   "cell_type": "code",
   "execution_count": null,
   "id": "27ab8c76",
   "metadata": {},
   "outputs": [
    {
     "data": {
      "text/plain": [
       "['barr', 'burn', 'bylo']"
      ]
     },
     "execution_count": 13,
     "metadata": {},
     "output_type": "execute_result"
    }
   ],
   "source": [
    "# gets rid of the weird tuple syntax\n",
    "[t[0] for t in cur.fetchall()]"
   ]
  },
  {
   "cell_type": "markdown",
   "id": "8a191f60",
   "metadata": {},
   "source": [
    "Method 2: Getting one result at a time"
   ]
  },
  {
   "cell_type": "code",
   "execution_count": 14,
   "id": "c6c1f2aa",
   "metadata": {},
   "outputs": [
    {
     "data": {
      "text/plain": [
       "('barr',)"
      ]
     },
     "execution_count": 14,
     "metadata": {},
     "output_type": "execute_result"
    }
   ],
   "source": [
    "cur.execute(\"SELECT Code FROM Site LIMIT 3\")\n",
    "cur.fetchone()"
   ]
  },
  {
   "cell_type": "code",
   "execution_count": 15,
   "id": "3ea125b3",
   "metadata": {},
   "outputs": [
    {
     "data": {
      "text/plain": [
       "('burn',)"
      ]
     },
     "execution_count": 15,
     "metadata": {},
     "output_type": "execute_result"
    }
   ],
   "source": [
    "cur.fetchone()"
   ]
  },
  {
   "cell_type": "code",
   "execution_count": 16,
   "id": "4f3dbae1",
   "metadata": {},
   "outputs": [
    {
     "data": {
      "text/plain": [
       "('bylo',)"
      ]
     },
     "execution_count": 16,
     "metadata": {},
     "output_type": "execute_result"
    }
   ],
   "source": [
    "cur.fetchone()"
   ]
  },
  {
   "cell_type": "markdown",
   "id": "dedfe3c2",
   "metadata": {},
   "source": [
    "Method 3: iterate over a cursor --sadly not supported by DuckDB"
   ]
  },
  {
   "cell_type": "code",
   "execution_count": 17,
   "id": "f20cbd54",
   "metadata": {},
   "outputs": [
    {
     "ename": "TypeError",
     "evalue": "'duckdb.duckdb.DuckDBPyConnection' object is not iterable",
     "output_type": "error",
     "traceback": [
      "\u001b[0;31m---------------------------------------------------------------------------\u001b[0m",
      "\u001b[0;31mTypeError\u001b[0m                                 Traceback (most recent call last)",
      "Cell \u001b[0;32mIn[17], line 2\u001b[0m\n\u001b[1;32m      1\u001b[0m cur\u001b[38;5;241m.\u001b[39mexecute(\u001b[38;5;124m\"\u001b[39m\u001b[38;5;124mSELECT Code FROM Site LIMIT 3\u001b[39m\u001b[38;5;124m\"\u001b[39m)\n\u001b[0;32m----> 2\u001b[0m \u001b[38;5;28;43;01mfor\u001b[39;49;00m\u001b[43m \u001b[49m\u001b[43mrow\u001b[49m\u001b[43m \u001b[49m\u001b[38;5;129;43;01min\u001b[39;49;00m\u001b[43m \u001b[49m\u001b[43mcur\u001b[49m\u001b[43m:\u001b[49m\n\u001b[1;32m      3\u001b[0m \u001b[43m    \u001b[49m\u001b[38;5;28;43mprint\u001b[39;49m\u001b[43m(\u001b[49m\u001b[43mrow\u001b[49m\u001b[43m)\u001b[49m\n",
      "\u001b[0;31mTypeError\u001b[0m: 'duckdb.duckdb.DuckDBPyConnection' object is not iterable"
     ]
    }
   ],
   "source": [
    "cur.execute(\"SELECT Code FROM Site LIMIT 3\")\n",
    "for row in cur:\n",
    "    print(row)"
   ]
  },
  {
   "cell_type": "markdown",
   "id": "ead64531",
   "metadata": {},
   "source": [
    "Fetchall is massively inefficient if you have a large number of results. Better to give me one thing then loop over the results one at a time.\n",
    "\n",
    "Can do things other than SELECTs"
   ]
  },
  {
   "cell_type": "code",
   "execution_count": 18,
   "id": "cc55879f",
   "metadata": {},
   "outputs": [
    {
     "data": {
      "text/plain": [
       "<duckdb.duckdb.DuckDBPyConnection at 0x7f7360579030>"
      ]
     },
     "execution_count": 18,
     "metadata": {},
     "output_type": "execute_result"
    }
   ],
   "source": [
    "cur.execute(\"\"\"CREATE TEMP TABLE t AS \n",
    "    SELECT * FROM Bird_nests WHERE Nest_ID LIKE '14%'\"\"\")"
   ]
  },
  {
   "cell_type": "code",
   "execution_count": 19,
   "id": "802f2fb0",
   "metadata": {},
   "outputs": [
    {
     "data": {
      "text/plain": [
       "[(99,)]"
      ]
     },
     "execution_count": 19,
     "metadata": {},
     "output_type": "execute_result"
    }
   ],
   "source": [
    "cur.fetchall()"
   ]
  },
  {
   "cell_type": "code",
   "execution_count": 20,
   "id": "ffd2fc33",
   "metadata": {},
   "outputs": [
    {
     "data": {
      "text/plain": [
       "99"
      ]
     },
     "execution_count": 20,
     "metadata": {},
     "output_type": "execute_result"
    }
   ],
   "source": [
    "cur.execute(\"SELECT COUNT(*) FROM t\")\n",
    "cur.fetchone()[0]"
   ]
  },
  {
   "cell_type": "markdown",
   "id": "246077d6",
   "metadata": {},
   "source": [
    "Temp table fetching gives you the number of rows\n",
    "\n",
    "A note on fragility: of columns being requested. Don't do a select *"
   ]
  },
  {
   "cell_type": "code",
   "execution_count": 21,
   "id": "6e48321c",
   "metadata": {},
   "outputs": [
    {
     "data": {
      "text/plain": [
       "[('barr', 71.30000305175781, -156.60000610351562),\n",
       " ('burn', 55.20000076293945, -84.30000305175781),\n",
       " ('bylo', 73.19999694824219, -80.0)]"
      ]
     },
     "execution_count": 21,
     "metadata": {},
     "output_type": "execute_result"
    }
   ],
   "source": [
    "cur.execute(\"SELECT Code, Latitude, Longitude FROM Site LIMIT 3\")\n",
    "cur.fetchall()"
   ]
  },
  {
   "cell_type": "markdown",
   "id": "07c0d334",
   "metadata": {},
   "source": [
    "Parameterized queries"
   ]
  },
  {
   "cell_type": "code",
   "execution_count": 23,
   "id": "4d3b0da0",
   "metadata": {},
   "outputs": [
    {
     "data": {
      "text/plain": [
       "[('agsq',), ('amcr',), ('amgp',)]"
      ]
     },
     "execution_count": 23,
     "metadata": {},
     "output_type": "execute_result"
    }
   ],
   "source": [
    "cur.execute(\"SELECT Code FROM Species LIMIT 3\")\n",
    "cur.fetchall()"
   ]
  },
  {
   "cell_type": "markdown",
   "id": "45abd3ae",
   "metadata": {},
   "source": [
    "Hypothesis: We want to know the number of nests for each species (and we're not going to use group by)"
   ]
  },
  {
   "cell_type": "code",
   "execution_count": 26,
   "id": "6084d028",
   "metadata": {},
   "outputs": [
    {
     "data": {
      "text/plain": [
       "[(29,)]"
      ]
     },
     "execution_count": 26,
     "metadata": {},
     "output_type": "execute_result"
    }
   ],
   "source": [
    "species = 'amgp'\n",
    "query = \"SELECT COUNT(*) FROM Bird_nests WHERE Species = ?\"\n",
    "cur.execute(query, [species])\n",
    "cur.fetchall()"
   ]
  },
  {
   "cell_type": "markdown",
   "id": "4698c114",
   "metadata": {},
   "source": [
    "Let's put two things together: query for all species and loop over those, getting the # of nests"
   ]
  },
  {
   "cell_type": "code",
   "execution_count": 28,
   "id": "b2b11ec3",
   "metadata": {},
   "outputs": [
    {
     "name": "stdout",
     "output_type": "stream",
     "text": [
      "Species agsq has 0 nests\n",
      "Species amcr has 0 nests\n",
      "Species amgp has 29 nests\n",
      "Species arfo has 0 nests\n",
      "Species arte has 0 nests\n",
      "Species basa has 0 nests\n",
      "Species bbis has 0 nests\n",
      "Species bbpl has 43 nests\n",
      "Species bbsa has 0 nests\n",
      "Species besw has 0 nests\n",
      "Species bltu has 0 nests\n",
      "Species brant has 0 nests\n",
      "Species brbe has 0 nests\n",
      "Species brle has 0 nests\n",
      "Species btcu has 0 nests\n",
      "Species btgo has 3 nests\n",
      "Species cole has 0 nests\n",
      "Species cora has 0 nests\n",
      "Species cosn has 0 nests\n",
      "Species crpl has 2 nests\n",
      "Species cusa has 0 nests\n",
      "Species dunl has 101 nests\n",
      "Species eywa has 0 nests\n",
      "Species glgu has 0 nests\n",
      "Species goea has 0 nests\n",
      "Species gwfg has 0 nests\n",
      "Species gwgu has 0 nests\n",
      "Species gwte has 0 nests\n",
      "Species gyrf has 0 nests\n",
      "Species herg has 3 nests\n",
      "Species hore has 0 nests\n",
      "Species hugo has 0 nests\n",
      "Species kill has 0 nests\n",
      "Species lalo has 33 nests\n",
      "Species lbdo has 1 nests\n",
      "Species lesa has 0 nests\n",
      "Species leye has 0 nests\n",
      "Species list has 0 nests\n",
      "Species ltdu has 0 nests\n",
      "Species ltja has 0 nests\n",
      "Species ltwe has 0 nests\n",
      "Species mago has 0 nests\n",
      "Species megu has 0 nests\n",
      "Species merl has 0 nests\n",
      "Species noha has 0 nests\n",
      "Species nopi has 0 nests\n",
      "Species nrvo has 0 nests\n",
      "Species nsho has 0 nests\n",
      "Species pagp has 0 nests\n",
      "Species paja has 2 nests\n",
      "Species palo has 0 nests\n",
      "Species pefa has 0 nests\n",
      "Species pesa has 14 nests\n",
      "Species pobe has 0 nests\n",
      "Species poja has 0 nests\n",
      "Species pusa has 0 nests\n",
      "Species refo has 0 nests\n",
      "Species rekn has 0 nests\n",
      "Species reph has 80 nests\n",
      "Species rlha has 0 nests\n",
      "Species rnph has 74 nests\n",
      "Species rnst has 0 nests\n",
      "Species rosa has 0 nests\n",
      "Species rtpi has 0 nests\n",
      "Species ruff has 0 nests\n",
      "Species rutu has 30 nests\n",
      "Species sacr has 0 nests\n",
      "Species sagu has 0 nests\n",
      "Species sand has 0 nests\n",
      "Species savs has 0 nests\n",
      "Species sbdo has 1 nests\n",
      "Species sbgu has 0 nests\n",
      "Species seow has 0 nests\n",
      "Species sepl has 105 nests\n",
      "Species sesa has 485 nests\n",
      "Species snow has 0 nests\n",
      "Species spei has 0 nests\n",
      "Species spre has 0 nests\n",
      "Species spsa has 0 nests\n",
      "Species spts has 0 nests\n",
      "Species stsa has 0 nests\n",
      "Species stwe has 0 nests\n",
      "Species test has 1 nests\n",
      "Species thgu has 0 nests\n",
      "Species tusw has 0 nests\n",
      "Species tuvo has 0 nests\n",
      "Species unfa has 0 nests\n",
      "Species ungu has 0 nests\n",
      "Species unja has 0 nests\n",
      "Species unle has 0 nests\n",
      "Species unra has 0 nests\n",
      "Species vegu has 0 nests\n",
      "Species wesa has 457 nests\n",
      "Species whim has 0 nests\n",
      "Species wipt has 0 nests\n",
      "Species wisn has 0 nests\n",
      "Species wolv has 0 nests\n",
      "Species wosa has 0 nests\n",
      "Species wrsa has 83 nests\n",
      "Species abcd has 0 nests\n",
      "Species efgh has 0 nests\n",
      "Species ijkl has 0 nests\n"
     ]
    }
   ],
   "source": [
    "cur.execute(\"SELECT Code from Species\")\n",
    "for row in cur.fetchall(): # in any other database, you can iterate over the cur, so we'll use the fetchall\n",
    "    species_code = row[0]\n",
    "    cur2 = conn.cursor()\n",
    "    cur2.execute(query, [species_code])\n",
    "    num_nests = cur2.fetchone()[0]\n",
    "    print(f\"Species {species_code} has {num_nests} nests\")\n",
    "    cur2.close()"
   ]
  },
  {
   "cell_type": "markdown",
   "id": "89689629",
   "metadata": {},
   "source": [
    "There are lots of convenient functions and packages"
   ]
  },
  {
   "cell_type": "code",
   "execution_count": 29,
   "id": "8043a6f3",
   "metadata": {},
   "outputs": [],
   "source": [
    "import pandas as pd"
   ]
  },
  {
   "cell_type": "code",
   "execution_count": 30,
   "id": "b36c864d",
   "metadata": {},
   "outputs": [
    {
     "name": "stderr",
     "output_type": "stream",
     "text": [
      "/tmp/ipykernel_46846/3644533794.py:1: UserWarning: pandas only supports SQLAlchemy connectable (engine/connection) or database string URI or sqlite3 DBAPI2 connection. Other DBAPI2 objects are not tested. Please consider using SQLAlchemy.\n",
      "  df = pd.read_sql(\"SELECT * FROM SITE\", conn)\n"
     ]
    }
   ],
   "source": [
    "df = pd.read_sql(\"SELECT * FROM SITE\", conn)"
   ]
  },
  {
   "cell_type": "code",
   "execution_count": 31,
   "id": "335294e3",
   "metadata": {},
   "outputs": [
    {
     "data": {
      "text/html": [
       "<div>\n",
       "<style scoped>\n",
       "    .dataframe tbody tr th:only-of-type {\n",
       "        vertical-align: middle;\n",
       "    }\n",
       "\n",
       "    .dataframe tbody tr th {\n",
       "        vertical-align: top;\n",
       "    }\n",
       "\n",
       "    .dataframe thead th {\n",
       "        text-align: right;\n",
       "    }\n",
       "</style>\n",
       "<table border=\"1\" class=\"dataframe\">\n",
       "  <thead>\n",
       "    <tr style=\"text-align: right;\">\n",
       "      <th></th>\n",
       "      <th>Code</th>\n",
       "      <th>Site_name</th>\n",
       "      <th>Location</th>\n",
       "      <th>Latitude</th>\n",
       "      <th>Longitude</th>\n",
       "      <th>Area</th>\n",
       "    </tr>\n",
       "  </thead>\n",
       "  <tbody>\n",
       "    <tr>\n",
       "      <th>0</th>\n",
       "      <td>barr</td>\n",
       "      <td>Barrow</td>\n",
       "      <td>Alaska, USA</td>\n",
       "      <td>71.300003</td>\n",
       "      <td>-156.600006</td>\n",
       "      <td>220.399994</td>\n",
       "    </tr>\n",
       "    <tr>\n",
       "      <th>1</th>\n",
       "      <td>burn</td>\n",
       "      <td>Burntpoint Creek</td>\n",
       "      <td>Ontario, Canada</td>\n",
       "      <td>55.200001</td>\n",
       "      <td>-84.300003</td>\n",
       "      <td>63.000000</td>\n",
       "    </tr>\n",
       "    <tr>\n",
       "      <th>2</th>\n",
       "      <td>bylo</td>\n",
       "      <td>Bylot Island</td>\n",
       "      <td>Nunavut, Canada</td>\n",
       "      <td>73.199997</td>\n",
       "      <td>-80.000000</td>\n",
       "      <td>723.599976</td>\n",
       "    </tr>\n",
       "    <tr>\n",
       "      <th>3</th>\n",
       "      <td>cakr</td>\n",
       "      <td>Cape Krusenstern</td>\n",
       "      <td>Alaska, USA</td>\n",
       "      <td>67.099998</td>\n",
       "      <td>-163.500000</td>\n",
       "      <td>54.099998</td>\n",
       "    </tr>\n",
       "    <tr>\n",
       "      <th>4</th>\n",
       "      <td>cari</td>\n",
       "      <td>Canning River Delta</td>\n",
       "      <td>Alaska, USA</td>\n",
       "      <td>70.099998</td>\n",
       "      <td>-145.800003</td>\n",
       "      <td>722.000000</td>\n",
       "    </tr>\n",
       "    <tr>\n",
       "      <th>5</th>\n",
       "      <td>chau</td>\n",
       "      <td>Chaun River Delta</td>\n",
       "      <td>Chukotka, Russia</td>\n",
       "      <td>68.800003</td>\n",
       "      <td>170.600006</td>\n",
       "      <td>248.199997</td>\n",
       "    </tr>\n",
       "    <tr>\n",
       "      <th>6</th>\n",
       "      <td>chur</td>\n",
       "      <td>Churchill</td>\n",
       "      <td>Manitoba, Canada</td>\n",
       "      <td>58.700001</td>\n",
       "      <td>-93.800003</td>\n",
       "      <td>866.900024</td>\n",
       "    </tr>\n",
       "    <tr>\n",
       "      <th>7</th>\n",
       "      <td>coat</td>\n",
       "      <td>Coats Island</td>\n",
       "      <td>Nunavut, Canada</td>\n",
       "      <td>62.900002</td>\n",
       "      <td>-82.500000</td>\n",
       "      <td>1239.099976</td>\n",
       "    </tr>\n",
       "    <tr>\n",
       "      <th>8</th>\n",
       "      <td>colv</td>\n",
       "      <td>Colville River Delta</td>\n",
       "      <td>Alaska, USA</td>\n",
       "      <td>70.400002</td>\n",
       "      <td>-150.699997</td>\n",
       "      <td>324.799988</td>\n",
       "    </tr>\n",
       "    <tr>\n",
       "      <th>9</th>\n",
       "      <td>eaba</td>\n",
       "      <td>East Bay</td>\n",
       "      <td>Nunavut, Canada</td>\n",
       "      <td>64.000000</td>\n",
       "      <td>-81.699997</td>\n",
       "      <td>1205.500000</td>\n",
       "    </tr>\n",
       "    <tr>\n",
       "      <th>10</th>\n",
       "      <td>iglo</td>\n",
       "      <td>Igloolik</td>\n",
       "      <td>Nunavut, Canada</td>\n",
       "      <td>69.400002</td>\n",
       "      <td>-81.599998</td>\n",
       "      <td>59.799999</td>\n",
       "    </tr>\n",
       "    <tr>\n",
       "      <th>11</th>\n",
       "      <td>ikpi</td>\n",
       "      <td>Ikpikpuk</td>\n",
       "      <td>Alaska, USA</td>\n",
       "      <td>70.599998</td>\n",
       "      <td>-154.699997</td>\n",
       "      <td>174.100006</td>\n",
       "    </tr>\n",
       "    <tr>\n",
       "      <th>12</th>\n",
       "      <td>lkri</td>\n",
       "      <td>Lower Khatanga River</td>\n",
       "      <td>Krasnoyarsk, Russia</td>\n",
       "      <td>72.900002</td>\n",
       "      <td>106.099998</td>\n",
       "      <td>270.899994</td>\n",
       "    </tr>\n",
       "    <tr>\n",
       "      <th>13</th>\n",
       "      <td>made</td>\n",
       "      <td>Mackenzie River Delta</td>\n",
       "      <td>Northwest Territories, Canada</td>\n",
       "      <td>69.400002</td>\n",
       "      <td>-135.000000</td>\n",
       "      <td>667.299988</td>\n",
       "    </tr>\n",
       "    <tr>\n",
       "      <th>14</th>\n",
       "      <td>nome</td>\n",
       "      <td>Nome</td>\n",
       "      <td>Alaska, USA</td>\n",
       "      <td>64.400002</td>\n",
       "      <td>-164.899994</td>\n",
       "      <td>90.099998</td>\n",
       "    </tr>\n",
       "    <tr>\n",
       "      <th>15</th>\n",
       "      <td>prba</td>\n",
       "      <td>Prudhoe Bay</td>\n",
       "      <td>Alaska, USA</td>\n",
       "      <td>70.300003</td>\n",
       "      <td>-148.600006</td>\n",
       "      <td>120.000000</td>\n",
       "    </tr>\n",
       "  </tbody>\n",
       "</table>\n",
       "</div>"
      ],
      "text/plain": [
       "    Code              Site_name                       Location   Latitude  \\\n",
       "0   barr                 Barrow                    Alaska, USA  71.300003   \n",
       "1   burn       Burntpoint Creek                Ontario, Canada  55.200001   \n",
       "2   bylo           Bylot Island                Nunavut, Canada  73.199997   \n",
       "3   cakr       Cape Krusenstern                    Alaska, USA  67.099998   \n",
       "4   cari    Canning River Delta                    Alaska, USA  70.099998   \n",
       "5   chau      Chaun River Delta               Chukotka, Russia  68.800003   \n",
       "6   chur              Churchill               Manitoba, Canada  58.700001   \n",
       "7   coat           Coats Island                Nunavut, Canada  62.900002   \n",
       "8   colv   Colville River Delta                    Alaska, USA  70.400002   \n",
       "9   eaba               East Bay                Nunavut, Canada  64.000000   \n",
       "10  iglo               Igloolik                Nunavut, Canada  69.400002   \n",
       "11  ikpi               Ikpikpuk                    Alaska, USA  70.599998   \n",
       "12  lkri   Lower Khatanga River            Krasnoyarsk, Russia  72.900002   \n",
       "13  made  Mackenzie River Delta  Northwest Territories, Canada  69.400002   \n",
       "14  nome                   Nome                    Alaska, USA  64.400002   \n",
       "15  prba            Prudhoe Bay                    Alaska, USA  70.300003   \n",
       "\n",
       "     Longitude         Area  \n",
       "0  -156.600006   220.399994  \n",
       "1   -84.300003    63.000000  \n",
       "2   -80.000000   723.599976  \n",
       "3  -163.500000    54.099998  \n",
       "4  -145.800003   722.000000  \n",
       "5   170.600006   248.199997  \n",
       "6   -93.800003   866.900024  \n",
       "7   -82.500000  1239.099976  \n",
       "8  -150.699997   324.799988  \n",
       "9   -81.699997  1205.500000  \n",
       "10  -81.599998    59.799999  \n",
       "11 -154.699997   174.100006  \n",
       "12  106.099998   270.899994  \n",
       "13 -135.000000   667.299988  \n",
       "14 -164.899994    90.099998  \n",
       "15 -148.600006   120.000000  "
      ]
     },
     "execution_count": 31,
     "metadata": {},
     "output_type": "execute_result"
    }
   ],
   "source": [
    "df"
   ]
  },
  {
   "cell_type": "code",
   "execution_count": 1,
   "id": "b24d6cf1",
   "metadata": {},
   "outputs": [
    {
     "data": {
      "text/plain": [
       "'/Users/hoyler/MEDS/EDS-213/bren-eds213-data/week6'"
      ]
     },
     "execution_count": 1,
     "metadata": {},
     "output_type": "execute_result"
    }
   ],
   "source": [
    "%pwd"
   ]
  },
  {
   "cell_type": "code",
   "execution_count": 5,
   "id": "ba741421",
   "metadata": {},
   "outputs": [
    {
     "name": "stderr",
     "output_type": "stream",
     "text": [
      "UsageError: Line magic function `%` not found.\n"
     ]
    }
   ],
   "source": [
    "% bash query_timer.sh method1 1000 'SELECT Code FROM Species WHERE Code NOT IN (SELECT DISTINCT Species FROM Bird_nests);' ../database/database.db timings.csv"
   ]
  },
  {
   "cell_type": "code",
   "execution_count": null,
   "id": "9e2b1305",
   "metadata": {},
   "outputs": [],
   "source": [
    "# 'SELECT Code FROM Species EXCEPT SELECT DISTINCT Species FROM Bird_nests;'"
   ]
  }
 ],
 "metadata": {
  "kernelspec": {
   "display_name": "eds220-env",
   "language": "python",
   "name": "python3"
  },
  "language_info": {
   "codemirror_mode": {
    "name": "ipython",
    "version": 3
   },
   "file_extension": ".py",
   "mimetype": "text/x-python",
   "name": "python",
   "nbconvert_exporter": "python",
   "pygments_lexer": "ipython3",
   "version": "3.11.4"
  }
 },
 "nbformat": 4,
 "nbformat_minor": 5
}
